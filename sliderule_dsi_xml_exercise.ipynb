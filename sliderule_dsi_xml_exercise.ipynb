{
 "cells": [
  {
   "cell_type": "markdown",
   "metadata": {},
   "source": [
    "# XML example and exercise\n",
    "****\n",
    "+ study examples of accessing nodes in XML tree structure  \n",
    "+ work on exercise to be completed and submitted\n",
    "****\n",
    "+ reference: https://docs.python.org/2.7/library/xml.etree.elementtree.html\n",
    "+ data source: http://www.dbis.informatik.uni-goettingen.de/Mondial\n",
    "****"
   ]
  },
  {
   "cell_type": "code",
   "execution_count": 251,
   "metadata": {
    "collapsed": true
   },
   "outputs": [],
   "source": [
    "from xml.etree import ElementTree as ET\n",
    "import pandas as pd\n",
    "import numpy as np"
   ]
  },
  {
   "cell_type": "markdown",
   "metadata": {},
   "source": [
    "## XML example\n",
    "\n",
    "+ for details about tree traversal and iterators, see https://docs.python.org/2.7/library/xml.etree.elementtree.html"
   ]
  },
  {
   "cell_type": "code",
   "execution_count": 252,
   "metadata": {
    "collapsed": true
   },
   "outputs": [],
   "source": [
    "document_tree = ET.parse( './data/mondial_database_less.xml' )"
   ]
  },
  {
   "cell_type": "code",
   "execution_count": 253,
   "metadata": {
    "collapsed": false
   },
   "outputs": [
    {
     "name": "stdout",
     "output_type": "stream",
     "text": [
      "Albania\n",
      "Greece\n",
      "Macedonia\n",
      "Serbia\n",
      "Montenegro\n",
      "Kosovo\n",
      "Andorra\n"
     ]
    }
   ],
   "source": [
    "# print names of all countries\n",
    "for child in document_tree.getroot():\n",
    "    print(child.find('name').text)"
   ]
  },
  {
   "cell_type": "code",
   "execution_count": 254,
   "metadata": {
    "collapsed": false
   },
   "outputs": [
    {
     "name": "stdout",
     "output_type": "stream",
     "text": [
      "* Albania:\n",
      "Tirana, Shkodër, Durrës, Vlorë, Elbasan, Korçë\n",
      "* Greece:\n",
      "Komotini, Kavala, Athina, Peiraias, Peristeri, Acharnes, Patra, Kozani, Kerkyra, Ioannina, Thessaloniki, Iraklio, Chania, Ermoupoli, Rhodes, Tripoli, Lamia, Chalkida, Larissa, Volos, Mytilini, Karyes\n",
      "* Macedonia:\n",
      "Skopje, Kumanovo\n",
      "* Serbia:\n",
      "Beograd, Novi Sad, Niš\n",
      "* Montenegro:\n",
      "Podgorica\n",
      "* Kosovo:\n",
      "Prishtine\n",
      "* Andorra:\n",
      "Andorra la Vella\n"
     ]
    }
   ],
   "source": [
    "# print names of all countries and their cities\n",
    "for element in document_tree.iterfind('country'):\n",
    "    print('* ' + element.find('name').text + ':',) \n",
    "    capitals_string = ''\n",
    "    for subelement in element.getiterator('city'):\n",
    "        capitals_string += subelement.find('name').text + ', '\n",
    "    print(capitals_string[:-2])"
   ]
  },
  {
   "cell_type": "markdown",
   "metadata": {},
   "source": [
    "****\n",
    "## XML exercise\n",
    "\n",
    "Using data in 'data/mondial_database.xml', the examples above, and refering to https://docs.python.org/2.7/library/xml.etree.elementtree.html, find\n",
    "\n",
    "1. 10 countries with the lowest infant mortality rates\n",
    "2. 10 cities with the largest population\n",
    "3. 10 ethnic groups with the largest overall populations (sum of best/latest estimates over all countries)\n",
    "4. name and country of a) longest river, b) largest lake and c) airport at highest elevation"
   ]
  },
  {
   "cell_type": "code",
   "execution_count": 255,
   "metadata": {
    "collapsed": true
   },
   "outputs": [],
   "source": [
    "# Read the XML\n",
    "document = ET.parse( './data/mondial_database.xml' )"
   ]
  },
  {
   "cell_type": "markdown",
   "metadata": {},
   "source": [
    "##  Objective 1: Find 10 countries with lowest infant morality rates.\n",
    "*****\n",
    "**Approach:** Loop through the document nodes to create a dictionary with `country` as the key and `infant_mortality` as the value, then convert this dict to a DataFrame. Use the DataFrame to get the 10 countries with the lowest infant mortality rates\n",
    "\n",
    " \n",
    " "
   ]
  },
  {
   "cell_type": "code",
   "execution_count": 256,
   "metadata": {
    "collapsed": false
   },
   "outputs": [],
   "source": [
    "#initialize a dictionary\n",
    "countries_dict = {}\n",
    "countries_df = pd.DataFrame(columns=('country','infant_mortality'))\n",
    "\n",
    "#loop through all the country nodes in the document\n",
    "for element in document.iterfind('country'):\n",
    "    ctry = element.find('name')\n",
    "    int_mort = element.find('infant_mortality')\n",
    "    #discard if the country node is not present\n",
    "    if (ctry) != None:\n",
    "        #discard if there is no infant_mortality is present\n",
    "        if (int_mort) != None:\n",
    "            countries_dict[ctry.text]=int_mort.text\n",
    "        else:\n",
    "            countries_dict[ctry.text]=np.NaN\n",
    "\n",
    "#create a DataFrame from the dictionary            \n",
    "countries_df=pd.DataFrame.from_dict(countries_dict, orient='index')\n",
    "\n",
    "#set the column name\n",
    "countries_df.columns=['InfantMortality']"
   ]
  },
  {
   "cell_type": "code",
   "execution_count": 257,
   "metadata": {
    "collapsed": false
   },
   "outputs": [],
   "source": [
    "#convert the values to numbers\n",
    "countries_df.InfantMortality = pd.to_numeric(countries_df.InfantMortality,errors='raise')"
   ]
  },
  {
   "cell_type": "code",
   "execution_count": 258,
   "metadata": {
    "collapsed": false
   },
   "outputs": [
    {
     "data": {
      "text/html": [
       "<div>\n",
       "<table border=\"1\" class=\"dataframe\">\n",
       "  <thead>\n",
       "    <tr style=\"text-align: right;\">\n",
       "      <th></th>\n",
       "      <th>InfantMortality</th>\n",
       "    </tr>\n",
       "  </thead>\n",
       "  <tbody>\n",
       "    <tr>\n",
       "      <th>Monaco</th>\n",
       "      <td>1.81</td>\n",
       "    </tr>\n",
       "    <tr>\n",
       "      <th>Japan</th>\n",
       "      <td>2.13</td>\n",
       "    </tr>\n",
       "    <tr>\n",
       "      <th>Bermuda</th>\n",
       "      <td>2.48</td>\n",
       "    </tr>\n",
       "    <tr>\n",
       "      <th>Norway</th>\n",
       "      <td>2.48</td>\n",
       "    </tr>\n",
       "    <tr>\n",
       "      <th>Singapore</th>\n",
       "      <td>2.53</td>\n",
       "    </tr>\n",
       "    <tr>\n",
       "      <th>Sweden</th>\n",
       "      <td>2.60</td>\n",
       "    </tr>\n",
       "    <tr>\n",
       "      <th>Czech Republic</th>\n",
       "      <td>2.63</td>\n",
       "    </tr>\n",
       "    <tr>\n",
       "      <th>Hong Kong</th>\n",
       "      <td>2.73</td>\n",
       "    </tr>\n",
       "    <tr>\n",
       "      <th>Macao</th>\n",
       "      <td>3.13</td>\n",
       "    </tr>\n",
       "    <tr>\n",
       "      <th>Iceland</th>\n",
       "      <td>3.15</td>\n",
       "    </tr>\n",
       "  </tbody>\n",
       "</table>\n",
       "</div>"
      ],
      "text/plain": [
       "                InfantMortality\n",
       "Monaco                     1.81\n",
       "Japan                      2.13\n",
       "Bermuda                    2.48\n",
       "Norway                     2.48\n",
       "Singapore                  2.53\n",
       "Sweden                     2.60\n",
       "Czech Republic             2.63\n",
       "Hong Kong                  2.73\n",
       "Macao                      3.13\n",
       "Iceland                    3.15"
      ]
     },
     "execution_count": 258,
     "metadata": {},
     "output_type": "execute_result"
    }
   ],
   "source": [
    "#get the 10 countries with the lowest infant mortality rates\n",
    "countries_df.sort_values(by = 'InfantMortality',ascending=True).head(10)"
   ]
  },
  {
   "cell_type": "markdown",
   "metadata": {},
   "source": [
    "## Objective 2 : 10 cities with the largest population.\n",
    "****\n",
    "**Approach:** The objective is to get the latest population of all the cities and for each city, get the latest population (i.e. population of  the most recent year). The structure of the XML to is \n",
    "\n",
    "`Countries --> Provinces -->City-->Population(for multiple years)`\n",
    "\n",
    "The `province` node may or may not be present, if it is not present, the `city`  will be directly under countries. The high level steps to get the 10 cities with the largest population are\n",
    "1. Setup a loop to go through each `country`\n",
    "2. Create a dictionary of all provinces [key - id ; value - province name]\n",
    "3. Go through each `city` in the `country`\n",
    "4. Get the latest `population` entry\n",
    "5. Collect all these values (`country, city, province, year, population`) in a list; use the dictionary created in step 2\n",
    "6. At the end of the loop create a DataFrame from the list\n",
    "7. Use the DataFrame to get the cities with the largest population\n"
   ]
  },
  {
   "cell_type": "code",
   "execution_count": 259,
   "metadata": {
    "collapsed": false,
    "scrolled": false
   },
   "outputs": [
    {
     "data": {
      "text/html": [
       "<div>\n",
       "<table border=\"1\" class=\"dataframe\">\n",
       "  <thead>\n",
       "    <tr style=\"text-align: right;\">\n",
       "      <th></th>\n",
       "      <th>Country</th>\n",
       "      <th>City</th>\n",
       "      <th>Province</th>\n",
       "      <th>Year</th>\n",
       "      <th>Population</th>\n",
       "    </tr>\n",
       "  </thead>\n",
       "  <tbody>\n",
       "    <tr>\n",
       "      <th>0</th>\n",
       "      <td>Albania</td>\n",
       "      <td>Tirana</td>\n",
       "      <td>No Province</td>\n",
       "      <td>2011</td>\n",
       "      <td>418495</td>\n",
       "    </tr>\n",
       "    <tr>\n",
       "      <th>1</th>\n",
       "      <td>Albania</td>\n",
       "      <td>Shkodër</td>\n",
       "      <td>No Province</td>\n",
       "      <td>2011</td>\n",
       "      <td>77075</td>\n",
       "    </tr>\n",
       "    <tr>\n",
       "      <th>2</th>\n",
       "      <td>Albania</td>\n",
       "      <td>Durrës</td>\n",
       "      <td>No Province</td>\n",
       "      <td>2011</td>\n",
       "      <td>113249</td>\n",
       "    </tr>\n",
       "    <tr>\n",
       "      <th>3</th>\n",
       "      <td>Albania</td>\n",
       "      <td>Vlorë</td>\n",
       "      <td>No Province</td>\n",
       "      <td>2011</td>\n",
       "      <td>79513</td>\n",
       "    </tr>\n",
       "    <tr>\n",
       "      <th>4</th>\n",
       "      <td>Albania</td>\n",
       "      <td>Elbasan</td>\n",
       "      <td>No Province</td>\n",
       "      <td>2011</td>\n",
       "      <td>78703</td>\n",
       "    </tr>\n",
       "    <tr>\n",
       "      <th>5</th>\n",
       "      <td>Albania</td>\n",
       "      <td>Korçë</td>\n",
       "      <td>No Province</td>\n",
       "      <td>2011</td>\n",
       "      <td>51152</td>\n",
       "    </tr>\n",
       "    <tr>\n",
       "      <th>6</th>\n",
       "      <td>Greece</td>\n",
       "      <td>Komotini</td>\n",
       "      <td>No Province</td>\n",
       "      <td>2011</td>\n",
       "      <td>51152</td>\n",
       "    </tr>\n",
       "    <tr>\n",
       "      <th>7</th>\n",
       "      <td>Greece</td>\n",
       "      <td>Kavala</td>\n",
       "      <td>Anatolikis Makedonias kai Thrakis</td>\n",
       "      <td>2011</td>\n",
       "      <td>58790</td>\n",
       "    </tr>\n",
       "    <tr>\n",
       "      <th>8</th>\n",
       "      <td>Greece</td>\n",
       "      <td>Athina</td>\n",
       "      <td>Attikis</td>\n",
       "      <td>2011</td>\n",
       "      <td>664046</td>\n",
       "    </tr>\n",
       "    <tr>\n",
       "      <th>9</th>\n",
       "      <td>Greece</td>\n",
       "      <td>Peiraias</td>\n",
       "      <td>Attikis</td>\n",
       "      <td>2011</td>\n",
       "      <td>163688</td>\n",
       "    </tr>\n",
       "  </tbody>\n",
       "</table>\n",
       "</div>"
      ],
      "text/plain": [
       "   Country      City                           Province  Year  Population\n",
       "0  Albania    Tirana                        No Province  2011      418495\n",
       "1  Albania   Shkodër                        No Province  2011       77075\n",
       "2  Albania    Durrës                        No Province  2011      113249\n",
       "3  Albania     Vlorë                        No Province  2011       79513\n",
       "4  Albania   Elbasan                        No Province  2011       78703\n",
       "5  Albania     Korçë                        No Province  2011       51152\n",
       "6   Greece  Komotini                        No Province  2011       51152\n",
       "7   Greece    Kavala  Anatolikis Makedonias kai Thrakis  2011       58790\n",
       "8   Greece    Athina                            Attikis  2011      664046\n",
       "9   Greece  Peiraias                            Attikis  2011      163688"
      ]
     },
     "execution_count": 259,
     "metadata": {},
     "output_type": "execute_result"
    }
   ],
   "source": [
    "#create a list to store the country, city, year and population, this list will be convereted to a DataFrame when data \n",
    "#for all cities are captured\n",
    "cit_pop_list = []\n",
    "\n",
    "#start a loop to go through all the countries in the XML\n",
    "for element in document.iterfind('country'):\n",
    "    ctry = element.find('name').text\n",
    "    '''\n",
    "    Countries may or may not have provinces, and there are some countries where the city name is not unique. e.g.\n",
    "    Richmond in United States. So the only way to uniquely identify a city to show the city along with the country\n",
    "    and the province.\n",
    "    \n",
    "    we store the provice names of a country in a dictionary here. This dictionary will be used to fill in the \n",
    "    province names. Storing the provinces here reduces the amount of code required.   \n",
    "    '''\n",
    "  \n",
    "    prov_dict = {}\n",
    "    for province in element.findall('province'):\n",
    "        prov_dict[province.attrib['id']] = province.find('name').text\n",
    "        \n",
    "    # setup a loop for all the cities within a country    \n",
    "    for subelement in element.getiterator('city'):\n",
    "        city = subelement.find('name')\n",
    "        if city != None: # check to see if 'city' element is present\n",
    "            # for each city there may be more than one population entry, the below code stores only the latest\n",
    "            # population entry, i.e. entry whose year value is max\n",
    "            yr = 0\n",
    "            pop = 0\n",
    "            #get the population elements for each city\n",
    "            for popelement in subelement.getiterator('population'):\n",
    "                if popelement != None: # check to see if any 'population' element is present\n",
    "                    #store the population for the year that is the greatest for this particular city\n",
    "                    if int(popelement.attrib['year']) > yr:\n",
    "                        yr = int(popelement.attrib['year'])\n",
    "                        pop = int(popelement.text)\n",
    "                        #if this city has provinces, store the province name from the dict values created\n",
    "                        #earlier in the program\n",
    "                        if 'province' in subelement.attrib:\n",
    "                            prov = prov_dict[subelement.attrib['province']]\n",
    "                        else:\n",
    "                            prov = 'No Province'\n",
    "            #create a list with the elements and append to the list\n",
    "            cit_pop_list.append([ctry,city.text,prov,int(popelement.attrib['year']),int(popelement.text)])\n",
    "        \n",
    "#once the list is constructed, create a DataFrame from the list\n",
    "cit_pop_df=pd.DataFrame.from_records(cit_pop_list)\n",
    "\n",
    "#set the column names\n",
    "cit_pop_df.columns=['Country','City','Province','Year','Population']\n",
    "\n",
    "\n",
    "cit_pop_df.head(10)"
   ]
  },
  {
   "cell_type": "code",
   "execution_count": 260,
   "metadata": {
    "collapsed": false
   },
   "outputs": [
    {
     "data": {
      "text/html": [
       "<div>\n",
       "<table border=\"1\" class=\"dataframe\">\n",
       "  <thead>\n",
       "    <tr style=\"text-align: right;\">\n",
       "      <th></th>\n",
       "      <th>Country</th>\n",
       "      <th>City</th>\n",
       "      <th>Province</th>\n",
       "      <th>Year</th>\n",
       "      <th>Population</th>\n",
       "    </tr>\n",
       "  </thead>\n",
       "  <tbody>\n",
       "    <tr>\n",
       "      <th>1341</th>\n",
       "      <td>China</td>\n",
       "      <td>Shanghai</td>\n",
       "      <td>Shanghai</td>\n",
       "      <td>2010</td>\n",
       "      <td>22315474</td>\n",
       "    </tr>\n",
       "    <tr>\n",
       "      <th>771</th>\n",
       "      <td>Turkey</td>\n",
       "      <td>Istanbul</td>\n",
       "      <td>İstanbul</td>\n",
       "      <td>2012</td>\n",
       "      <td>13710512</td>\n",
       "    </tr>\n",
       "    <tr>\n",
       "      <th>1527</th>\n",
       "      <td>India</td>\n",
       "      <td>Mumbai</td>\n",
       "      <td>Maharashtra</td>\n",
       "      <td>2011</td>\n",
       "      <td>12442373</td>\n",
       "    </tr>\n",
       "    <tr>\n",
       "      <th>479</th>\n",
       "      <td>Russia</td>\n",
       "      <td>Moskva</td>\n",
       "      <td>Moscow</td>\n",
       "      <td>2013</td>\n",
       "      <td>11979529</td>\n",
       "    </tr>\n",
       "    <tr>\n",
       "      <th>1340</th>\n",
       "      <td>China</td>\n",
       "      <td>Beijing</td>\n",
       "      <td>Beijing</td>\n",
       "      <td>2010</td>\n",
       "      <td>11716620</td>\n",
       "    </tr>\n",
       "    <tr>\n",
       "      <th>2810</th>\n",
       "      <td>Brazil</td>\n",
       "      <td>São Paulo</td>\n",
       "      <td>São Paulo</td>\n",
       "      <td>2010</td>\n",
       "      <td>11152344</td>\n",
       "    </tr>\n",
       "    <tr>\n",
       "      <th>1342</th>\n",
       "      <td>China</td>\n",
       "      <td>Tianjin</td>\n",
       "      <td>Tianjin</td>\n",
       "      <td>2010</td>\n",
       "      <td>11090314</td>\n",
       "    </tr>\n",
       "    <tr>\n",
       "      <th>1064</th>\n",
       "      <td>China</td>\n",
       "      <td>Guangzhou</td>\n",
       "      <td>Guangdong</td>\n",
       "      <td>2010</td>\n",
       "      <td>11071424</td>\n",
       "    </tr>\n",
       "    <tr>\n",
       "      <th>1582</th>\n",
       "      <td>India</td>\n",
       "      <td>Delhi</td>\n",
       "      <td>Delhi</td>\n",
       "      <td>2011</td>\n",
       "      <td>11034555</td>\n",
       "    </tr>\n",
       "    <tr>\n",
       "      <th>1067</th>\n",
       "      <td>China</td>\n",
       "      <td>Shenzhen</td>\n",
       "      <td>Guangdong</td>\n",
       "      <td>2010</td>\n",
       "      <td>10358381</td>\n",
       "    </tr>\n",
       "  </tbody>\n",
       "</table>\n",
       "</div>"
      ],
      "text/plain": [
       "     Country       City     Province  Year  Population\n",
       "1341   China   Shanghai     Shanghai  2010    22315474\n",
       "771   Turkey   Istanbul     İstanbul  2012    13710512\n",
       "1527   India     Mumbai  Maharashtra  2011    12442373\n",
       "479   Russia     Moskva       Moscow  2013    11979529\n",
       "1340   China    Beijing      Beijing  2010    11716620\n",
       "2810  Brazil  São Paulo    São Paulo  2010    11152344\n",
       "1342   China    Tianjin      Tianjin  2010    11090314\n",
       "1064   China  Guangzhou    Guangdong  2010    11071424\n",
       "1582   India      Delhi        Delhi  2011    11034555\n",
       "1067   China   Shenzhen    Guangdong  2010    10358381"
      ]
     },
     "execution_count": 260,
     "metadata": {},
     "output_type": "execute_result"
    }
   ],
   "source": [
    "cit_pop_df.sort_values(by = 'Population',ascending=False).head(10)"
   ]
  },
  {
   "cell_type": "markdown",
   "metadata": {},
   "source": [
    "\n",
    "## Objective 3: 10 ethnic groups with the largest overall populations (sum of best/latest estimates over all countries)\n",
    "****\n",
    "**Approach:** Setup a list to collect the values, loop through the XML to collect the values in the list, then finally create a DataFrame from the list to get the top 10 ethnic groups. High level steps\n",
    "1. Loop through each `country` \n",
    "2. For each `country` store the latest population and the year\n",
    "3. Loop through each `ethnicgroup` in the `country`\n",
    "4. For each `ethnicgroup` get the population by using the `percentage` and population stored in step 2"
   ]
  },
  {
   "cell_type": "code",
   "execution_count": 273,
   "metadata": {
    "collapsed": false
   },
   "outputs": [
    {
     "data": {
      "text/html": [
       "<div>\n",
       "<table border=\"1\" class=\"dataframe\">\n",
       "  <thead>\n",
       "    <tr style=\"text-align: right;\">\n",
       "      <th></th>\n",
       "      <th>Country</th>\n",
       "      <th>EthnicGroup</th>\n",
       "      <th>Year</th>\n",
       "      <th>Population</th>\n",
       "    </tr>\n",
       "  </thead>\n",
       "  <tbody>\n",
       "    <tr>\n",
       "      <th>0</th>\n",
       "      <td>Albania</td>\n",
       "      <td>Albanian</td>\n",
       "      <td>2011</td>\n",
       "      <td>2.660131e+06</td>\n",
       "    </tr>\n",
       "    <tr>\n",
       "      <th>1</th>\n",
       "      <td>Albania</td>\n",
       "      <td>Greek</td>\n",
       "      <td>2011</td>\n",
       "      <td>8.400414e+04</td>\n",
       "    </tr>\n",
       "    <tr>\n",
       "      <th>2</th>\n",
       "      <td>Greece</td>\n",
       "      <td>Greek</td>\n",
       "      <td>2011</td>\n",
       "      <td>1.005915e+07</td>\n",
       "    </tr>\n",
       "    <tr>\n",
       "      <th>3</th>\n",
       "      <td>Macedonia</td>\n",
       "      <td>Macedonian</td>\n",
       "      <td>2011</td>\n",
       "      <td>1.322388e+06</td>\n",
       "    </tr>\n",
       "    <tr>\n",
       "      <th>4</th>\n",
       "      <td>Macedonia</td>\n",
       "      <td>Albanian</td>\n",
       "      <td>2011</td>\n",
       "      <td>5.190681e+05</td>\n",
       "    </tr>\n",
       "  </tbody>\n",
       "</table>\n",
       "</div>"
      ],
      "text/plain": [
       "     Country EthnicGroup  Year    Population\n",
       "0    Albania    Albanian  2011  2.660131e+06\n",
       "1    Albania       Greek  2011  8.400414e+04\n",
       "2     Greece       Greek  2011  1.005915e+07\n",
       "3  Macedonia  Macedonian  2011  1.322388e+06\n",
       "4  Macedonia    Albanian  2011  5.190681e+05"
      ]
     },
     "execution_count": 273,
     "metadata": {},
     "output_type": "execute_result"
    }
   ],
   "source": [
    "ethgrp_list = []\n",
    "\n",
    "for element in document.iterfind('country'):\n",
    "    ctry = element.find('name').text\n",
    "    yr=0\n",
    "    #find the latest population\n",
    "    for popele in element.findall('population'):\n",
    "        if int(popele.attrib['year']) > yr:\n",
    "            popltn = int(popele.text)\n",
    "            yr = int(popele.attrib['year']) \n",
    "    \n",
    "    #store the ethnic group and its population     \n",
    "    for ethgrp in element.findall('ethnicgroup'):\n",
    "        percent = float(ethgrp.attrib['percentage']) / 100\n",
    "        ethgrp_list.append([ctry,ethgrp.text, int(yr), (float(popltn)*percent)])\n",
    "        \n",
    "        \n",
    "#once the list is constructed, create a DataFrame from the list\n",
    "ethgrp_df=pd.DataFrame.from_records(ethgrp_list)\n",
    "\n",
    "#set the column names\n",
    "ethgrp_df.columns=['Country','EthnicGroup','Year','Population']\n",
    "\n",
    "ethgrp_df.head(5)"
   ]
  },
  {
   "cell_type": "code",
   "execution_count": 275,
   "metadata": {
    "collapsed": false
   },
   "outputs": [
    {
     "data": {
      "text/html": [
       "<div>\n",
       "<table border=\"1\" class=\"dataframe\">\n",
       "  <thead>\n",
       "    <tr style=\"text-align: right;\">\n",
       "      <th></th>\n",
       "      <th>Population</th>\n",
       "    </tr>\n",
       "    <tr>\n",
       "      <th>EthnicGroup</th>\n",
       "      <th></th>\n",
       "    </tr>\n",
       "  </thead>\n",
       "  <tbody>\n",
       "    <tr>\n",
       "      <th>Han Chinese</th>\n",
       "      <td>1.245059e+09</td>\n",
       "    </tr>\n",
       "    <tr>\n",
       "      <th>Indo-Aryan</th>\n",
       "      <td>8.718156e+08</td>\n",
       "    </tr>\n",
       "    <tr>\n",
       "      <th>European</th>\n",
       "      <td>4.948722e+08</td>\n",
       "    </tr>\n",
       "    <tr>\n",
       "      <th>African</th>\n",
       "      <td>3.183251e+08</td>\n",
       "    </tr>\n",
       "    <tr>\n",
       "      <th>Dravidian</th>\n",
       "      <td>3.027137e+08</td>\n",
       "    </tr>\n",
       "    <tr>\n",
       "      <th>Mestizo</th>\n",
       "      <td>1.577344e+08</td>\n",
       "    </tr>\n",
       "    <tr>\n",
       "      <th>Bengali</th>\n",
       "      <td>1.467769e+08</td>\n",
       "    </tr>\n",
       "    <tr>\n",
       "      <th>Russian</th>\n",
       "      <td>1.318570e+08</td>\n",
       "    </tr>\n",
       "    <tr>\n",
       "      <th>Japanese</th>\n",
       "      <td>1.265342e+08</td>\n",
       "    </tr>\n",
       "    <tr>\n",
       "      <th>Malay</th>\n",
       "      <td>1.219936e+08</td>\n",
       "    </tr>\n",
       "  </tbody>\n",
       "</table>\n",
       "</div>"
      ],
      "text/plain": [
       "               Population\n",
       "EthnicGroup              \n",
       "Han Chinese  1.245059e+09\n",
       "Indo-Aryan   8.718156e+08\n",
       "European     4.948722e+08\n",
       "African      3.183251e+08\n",
       "Dravidian    3.027137e+08\n",
       "Mestizo      1.577344e+08\n",
       "Bengali      1.467769e+08\n",
       "Russian      1.318570e+08\n",
       "Japanese     1.265342e+08\n",
       "Malay        1.219936e+08"
      ]
     },
     "execution_count": 275,
     "metadata": {},
     "output_type": "execute_result"
    }
   ],
   "source": [
    "#use groupby on ethnicgroup and population to find the largest ethnic groups\n",
    "ethgrp_df[['EthnicGroup','Population']].groupby(['EthnicGroup']).sum().sort_values(by='Population',ascending=False).head(10)"
   ]
  },
  {
   "cell_type": "markdown",
   "metadata": {},
   "source": [
    "## Objective 4. Name and country of a) longest river, b) largest lake and c) airport at highest elevation\n",
    "****\n",
    "**Approach:** A similar approach will be used for all 3 elements. First step will be to create a dictionary of country ids and country names, this dictionary will be used when updating the record with the country name. Once the country dictionary is created, loop through each of the elements (river, lake, airport), gather the element values, add to the list. Finally use the list to create a DataFrame and use the DataFrame to get the target information"
   ]
  },
  {
   "cell_type": "code",
   "execution_count": 263,
   "metadata": {
    "collapsed": false
   },
   "outputs": [],
   "source": [
    "'''\n",
    "create a country dict to capture the country codes and the country names\n",
    "this dict will be used later to update the country names for rivers, lakes and airports\n",
    "those nodes contain only the country codes\n",
    "'''\n",
    "\n",
    "ctry_dict={}\n",
    "for ctry_element in document.iterfind('country'):\n",
    "    ctry_dict[ctry_element.attrib['car_code']]=ctry_element.find('name').text\n",
    "    \n",
    "\n",
    "#create a DataFrame of rivers and their countries-------------------------------------\n",
    "  \n",
    "#create a list to store the values - river name, country code, country name, river length\n",
    "river_country_list = []\n",
    "\n",
    "#setup a loop to go through the river nodes\n",
    "for riv_element in document.iterfind('river'):\n",
    "    river = riv_element.find('name').text\n",
    "    river_length_el = riv_element.find('length')\n",
    "    #discard if the river does not have the length element\n",
    "    if river_length_el != None:\n",
    "        river_length = river_length_el.text\n",
    "        #some rivers run through multiple countries, each country code is seperated by a space\n",
    "        #split the country codes by string and add a record for each country\n",
    "        for riv_country_code in riv_element.attrib['country'].split():\n",
    "            river_country = ctry_dict[riv_country_code]\n",
    "            river_country_list.append([river,riv_country_code,river_country,float(river_length)]) \n",
    "        \n",
    "\n",
    "#once the list is constructed, create a DataFrame from the list\n",
    "river_country_df=pd.DataFrame.from_records(river_country_list)\n",
    "\n",
    "#set the column names\n",
    "river_country_df.columns=['River','CountryCode','CountryName','Length']\n",
    "\n",
    "\n",
    "\n",
    "\n",
    "\n",
    "#country and their lakes--------------------------------------------------------------\n",
    "\n",
    "#create a list to hold the values  - lake, country code, country name, lake area\n",
    "lake_country_list=[] \n",
    "\n",
    "#loop through the 'lake' nodes\n",
    "for lake_element in document.iterfind('lake') :\n",
    "    lake_name = (lake_element.find('name').text)\n",
    "    lake_area_el = lake_element.find('area')\n",
    "    #some some of the area elements are not present, ignore those nodes\n",
    "    if lake_area_el != None:\n",
    "        #some lakes are across multiple countries, country codes are seperated by a space\n",
    "        #add a record for each country code\n",
    "        for lake_country_code in lake_element.attrib['country'].split():\n",
    "            lake_country = ctry_dict[lake_country_code]\n",
    "            #build the list - add the values\n",
    "            lake_country_list.append([lake_name,lake_country_code,lake_country,float(lake_area_el.text)])\n",
    "\n",
    "#create a DataFrame from the list\n",
    "lake_country_df = pd.DataFrame.from_records(lake_country_list)\n",
    "\n",
    "#set the column names\n",
    "lake_country_df.columns=['Lake','CountryCode','CountryName','Area']\n",
    "\n",
    "\n",
    "\n",
    "#country and their airports--------------------------------------------------------------\n",
    "#create a list to hold the values - airport, country code, country and airport elevation\n",
    "airport_country_list=[]\n",
    "\n",
    "#loop through all the airport nodes\n",
    "for airport_element in document.iterfind('airport'):\n",
    "    airport_name = airport_element.find('name').text\n",
    "    airport_country_code = airport_element.attrib['country']\n",
    "    airport_country = ctry_dict[airport_country_code]\n",
    "    airport_elevation_el = airport_element.find('elevation')\n",
    "    #discard all elements where the elevation element is absent\n",
    "    if airport_elevation_el != None:\n",
    "        airport_elevation = airport_elevation_el.text\n",
    "        #some elevation dont have text\n",
    "        if ((airport_elevation is  not  None)):\n",
    "            airport_country_list.append([airport_name, airport_country_code, airport_country, float(airport_elevation)])\n",
    "\n",
    "#create a DataFrame from the list\n",
    "airport_country_df = pd.DataFrame.from_records(airport_country_list)\n",
    "airport_country_df.columns = ['Airport','CountryCode','CountryName','Elevation']\n",
    "\n"
   ]
  },
  {
   "cell_type": "code",
   "execution_count": 264,
   "metadata": {
    "collapsed": false
   },
   "outputs": [
    {
     "data": {
      "text/html": [
       "<div>\n",
       "<table border=\"1\" class=\"dataframe\">\n",
       "  <thead>\n",
       "    <tr style=\"text-align: right;\">\n",
       "      <th></th>\n",
       "      <th>Lake</th>\n",
       "      <th>CountryCode</th>\n",
       "      <th>CountryName</th>\n",
       "      <th>Area</th>\n",
       "    </tr>\n",
       "  </thead>\n",
       "  <tbody>\n",
       "    <tr>\n",
       "      <th>0</th>\n",
       "      <td>Inari</td>\n",
       "      <td>SF</td>\n",
       "      <td>Finland</td>\n",
       "      <td>1040.0</td>\n",
       "    </tr>\n",
       "    <tr>\n",
       "      <th>1</th>\n",
       "      <td>Oulujaervi</td>\n",
       "      <td>SF</td>\n",
       "      <td>Finland</td>\n",
       "      <td>928.0</td>\n",
       "    </tr>\n",
       "    <tr>\n",
       "      <th>2</th>\n",
       "      <td>Kallavesi</td>\n",
       "      <td>SF</td>\n",
       "      <td>Finland</td>\n",
       "      <td>472.0</td>\n",
       "    </tr>\n",
       "    <tr>\n",
       "      <th>3</th>\n",
       "      <td>Saimaa</td>\n",
       "      <td>SF</td>\n",
       "      <td>Finland</td>\n",
       "      <td>4370.0</td>\n",
       "    </tr>\n",
       "    <tr>\n",
       "      <th>4</th>\n",
       "      <td>Paeijaenne</td>\n",
       "      <td>SF</td>\n",
       "      <td>Finland</td>\n",
       "      <td>1118.0</td>\n",
       "    </tr>\n",
       "  </tbody>\n",
       "</table>\n",
       "</div>"
      ],
      "text/plain": [
       "         Lake CountryCode CountryName    Area\n",
       "0       Inari          SF     Finland  1040.0\n",
       "1  Oulujaervi          SF     Finland   928.0\n",
       "2   Kallavesi          SF     Finland   472.0\n",
       "3      Saimaa          SF     Finland  4370.0\n",
       "4  Paeijaenne          SF     Finland  1118.0"
      ]
     },
     "execution_count": 264,
     "metadata": {},
     "output_type": "execute_result"
    }
   ],
   "source": [
    "lake_country_df.head()"
   ]
  },
  {
   "cell_type": "code",
   "execution_count": 265,
   "metadata": {
    "collapsed": false
   },
   "outputs": [
    {
     "data": {
      "text/html": [
       "<div>\n",
       "<table border=\"1\" class=\"dataframe\">\n",
       "  <thead>\n",
       "    <tr style=\"text-align: right;\">\n",
       "      <th></th>\n",
       "      <th>River</th>\n",
       "      <th>CountryCode</th>\n",
       "      <th>CountryName</th>\n",
       "      <th>Length</th>\n",
       "    </tr>\n",
       "  </thead>\n",
       "  <tbody>\n",
       "    <tr>\n",
       "      <th>0</th>\n",
       "      <td>Thjorsa</td>\n",
       "      <td>IS</td>\n",
       "      <td>Iceland</td>\n",
       "      <td>230.0</td>\n",
       "    </tr>\n",
       "    <tr>\n",
       "      <th>1</th>\n",
       "      <td>Joekulsa a Fjoellum</td>\n",
       "      <td>IS</td>\n",
       "      <td>Iceland</td>\n",
       "      <td>206.0</td>\n",
       "    </tr>\n",
       "    <tr>\n",
       "      <th>2</th>\n",
       "      <td>Glomma</td>\n",
       "      <td>N</td>\n",
       "      <td>Norway</td>\n",
       "      <td>604.0</td>\n",
       "    </tr>\n",
       "    <tr>\n",
       "      <th>3</th>\n",
       "      <td>Lagen</td>\n",
       "      <td>N</td>\n",
       "      <td>Norway</td>\n",
       "      <td>322.0</td>\n",
       "    </tr>\n",
       "    <tr>\n",
       "      <th>4</th>\n",
       "      <td>Goetaaelv</td>\n",
       "      <td>S</td>\n",
       "      <td>Sweden</td>\n",
       "      <td>93.0</td>\n",
       "    </tr>\n",
       "  </tbody>\n",
       "</table>\n",
       "</div>"
      ],
      "text/plain": [
       "                 River CountryCode CountryName  Length\n",
       "0              Thjorsa          IS     Iceland   230.0\n",
       "1  Joekulsa a Fjoellum          IS     Iceland   206.0\n",
       "2               Glomma           N      Norway   604.0\n",
       "3                Lagen           N      Norway   322.0\n",
       "4            Goetaaelv           S      Sweden    93.0"
      ]
     },
     "execution_count": 265,
     "metadata": {},
     "output_type": "execute_result"
    }
   ],
   "source": [
    "river_country_df.head()"
   ]
  },
  {
   "cell_type": "code",
   "execution_count": 266,
   "metadata": {
    "collapsed": false
   },
   "outputs": [
    {
     "data": {
      "text/html": [
       "<div>\n",
       "<table border=\"1\" class=\"dataframe\">\n",
       "  <thead>\n",
       "    <tr style=\"text-align: right;\">\n",
       "      <th></th>\n",
       "      <th>Airport</th>\n",
       "      <th>CountryCode</th>\n",
       "      <th>CountryName</th>\n",
       "      <th>Elevation</th>\n",
       "    </tr>\n",
       "  </thead>\n",
       "  <tbody>\n",
       "    <tr>\n",
       "      <th>0</th>\n",
       "      <td>Herat</td>\n",
       "      <td>AFG</td>\n",
       "      <td>Afghanistan</td>\n",
       "      <td>977.0</td>\n",
       "    </tr>\n",
       "    <tr>\n",
       "      <th>1</th>\n",
       "      <td>Kabul Intl</td>\n",
       "      <td>AFG</td>\n",
       "      <td>Afghanistan</td>\n",
       "      <td>1792.0</td>\n",
       "    </tr>\n",
       "    <tr>\n",
       "      <th>2</th>\n",
       "      <td>Tirana Rinas</td>\n",
       "      <td>AL</td>\n",
       "      <td>Albania</td>\n",
       "      <td>38.0</td>\n",
       "    </tr>\n",
       "    <tr>\n",
       "      <th>3</th>\n",
       "      <td>Cheikh Larbi Tebessi</td>\n",
       "      <td>DZ</td>\n",
       "      <td>Algeria</td>\n",
       "      <td>811.0</td>\n",
       "    </tr>\n",
       "    <tr>\n",
       "      <th>4</th>\n",
       "      <td>Batna Airport</td>\n",
       "      <td>DZ</td>\n",
       "      <td>Algeria</td>\n",
       "      <td>822.0</td>\n",
       "    </tr>\n",
       "  </tbody>\n",
       "</table>\n",
       "</div>"
      ],
      "text/plain": [
       "                Airport CountryCode  CountryName  Elevation\n",
       "0                 Herat         AFG  Afghanistan      977.0\n",
       "1            Kabul Intl         AFG  Afghanistan     1792.0\n",
       "2          Tirana Rinas          AL      Albania       38.0\n",
       "3  Cheikh Larbi Tebessi          DZ      Algeria      811.0\n",
       "4         Batna Airport          DZ      Algeria      822.0"
      ]
     },
     "execution_count": 266,
     "metadata": {},
     "output_type": "execute_result"
    }
   ],
   "source": [
    "airport_country_df.head()"
   ]
  },
  {
   "cell_type": "code",
   "execution_count": 267,
   "metadata": {
    "collapsed": false
   },
   "outputs": [
    {
     "data": {
      "text/plain": [
       "River          Amazonas\n",
       "CountryCode          CO\n",
       "CountryName    Colombia\n",
       "Length             6448\n",
       "Name: 298, dtype: object"
      ]
     },
     "execution_count": 267,
     "metadata": {},
     "output_type": "execute_result"
    }
   ],
   "source": [
    "#Country with the longest river\n",
    "river_country_df.iloc[river_country_df['Length'].idxmax()]"
   ]
  },
  {
   "cell_type": "code",
   "execution_count": 268,
   "metadata": {
    "collapsed": false
   },
   "outputs": [
    {
     "data": {
      "text/html": [
       "<div>\n",
       "<table border=\"1\" class=\"dataframe\">\n",
       "  <thead>\n",
       "    <tr style=\"text-align: right;\">\n",
       "      <th></th>\n",
       "      <th>River</th>\n",
       "      <th>CountryCode</th>\n",
       "      <th>CountryName</th>\n",
       "      <th>Length</th>\n",
       "    </tr>\n",
       "  </thead>\n",
       "  <tbody>\n",
       "    <tr>\n",
       "      <th>298</th>\n",
       "      <td>Amazonas</td>\n",
       "      <td>CO</td>\n",
       "      <td>Colombia</td>\n",
       "      <td>6448.0</td>\n",
       "    </tr>\n",
       "    <tr>\n",
       "      <th>299</th>\n",
       "      <td>Amazonas</td>\n",
       "      <td>BR</td>\n",
       "      <td>Brazil</td>\n",
       "      <td>6448.0</td>\n",
       "    </tr>\n",
       "    <tr>\n",
       "      <th>300</th>\n",
       "      <td>Amazonas</td>\n",
       "      <td>PE</td>\n",
       "      <td>Peru</td>\n",
       "      <td>6448.0</td>\n",
       "    </tr>\n",
       "  </tbody>\n",
       "</table>\n",
       "</div>"
      ],
      "text/plain": [
       "        River CountryCode CountryName  Length\n",
       "298  Amazonas          CO    Colombia  6448.0\n",
       "299  Amazonas          BR      Brazil  6448.0\n",
       "300  Amazonas          PE        Peru  6448.0"
      ]
     },
     "execution_count": 268,
     "metadata": {},
     "output_type": "execute_result"
    }
   ],
   "source": [
    "river_country_df[river_country_df.River=='Amazonas']"
   ]
  },
  {
   "cell_type": "code",
   "execution_count": 269,
   "metadata": {
    "collapsed": false
   },
   "outputs": [
    {
     "data": {
      "text/plain": [
       "Lake           Caspian Sea\n",
       "CountryCode              R\n",
       "CountryName         Russia\n",
       "Area                386400\n",
       "Name: 68, dtype: object"
      ]
     },
     "execution_count": 269,
     "metadata": {},
     "output_type": "execute_result"
    }
   ],
   "source": [
    "#country with largest lake\n",
    "lake_country_df.iloc[lake_country_df['Area'].idxmax()]"
   ]
  },
  {
   "cell_type": "code",
   "execution_count": 270,
   "metadata": {
    "collapsed": false
   },
   "outputs": [
    {
     "data": {
      "text/html": [
       "<div>\n",
       "<table border=\"1\" class=\"dataframe\">\n",
       "  <thead>\n",
       "    <tr style=\"text-align: right;\">\n",
       "      <th></th>\n",
       "      <th>Lake</th>\n",
       "      <th>CountryCode</th>\n",
       "      <th>CountryName</th>\n",
       "      <th>Area</th>\n",
       "    </tr>\n",
       "  </thead>\n",
       "  <tbody>\n",
       "    <tr>\n",
       "      <th>68</th>\n",
       "      <td>Caspian Sea</td>\n",
       "      <td>R</td>\n",
       "      <td>Russia</td>\n",
       "      <td>386400.0</td>\n",
       "    </tr>\n",
       "    <tr>\n",
       "      <th>69</th>\n",
       "      <td>Caspian Sea</td>\n",
       "      <td>AZ</td>\n",
       "      <td>Azerbaijan</td>\n",
       "      <td>386400.0</td>\n",
       "    </tr>\n",
       "    <tr>\n",
       "      <th>70</th>\n",
       "      <td>Caspian Sea</td>\n",
       "      <td>KAZ</td>\n",
       "      <td>Kazakhstan</td>\n",
       "      <td>386400.0</td>\n",
       "    </tr>\n",
       "    <tr>\n",
       "      <th>71</th>\n",
       "      <td>Caspian Sea</td>\n",
       "      <td>IR</td>\n",
       "      <td>Iran</td>\n",
       "      <td>386400.0</td>\n",
       "    </tr>\n",
       "    <tr>\n",
       "      <th>72</th>\n",
       "      <td>Caspian Sea</td>\n",
       "      <td>TM</td>\n",
       "      <td>Turkmenistan</td>\n",
       "      <td>386400.0</td>\n",
       "    </tr>\n",
       "  </tbody>\n",
       "</table>\n",
       "</div>"
      ],
      "text/plain": [
       "           Lake CountryCode   CountryName      Area\n",
       "68  Caspian Sea           R        Russia  386400.0\n",
       "69  Caspian Sea          AZ    Azerbaijan  386400.0\n",
       "70  Caspian Sea         KAZ    Kazakhstan  386400.0\n",
       "71  Caspian Sea          IR          Iran  386400.0\n",
       "72  Caspian Sea          TM  Turkmenistan  386400.0"
      ]
     },
     "execution_count": 270,
     "metadata": {},
     "output_type": "execute_result"
    }
   ],
   "source": [
    "lake_country_df[lake_country_df.Lake=='Caspian Sea']"
   ]
  },
  {
   "cell_type": "code",
   "execution_count": 271,
   "metadata": {
    "collapsed": false
   },
   "outputs": [
    {
     "data": {
      "text/plain": [
       "Airport        El Alto Intl\n",
       "CountryCode             BOL\n",
       "CountryName         Bolivia\n",
       "Elevation              4063\n",
       "Name: 80, dtype: object"
      ]
     },
     "execution_count": 271,
     "metadata": {},
     "output_type": "execute_result"
    }
   ],
   "source": [
    "#country with highest elevation airport\n",
    "airport_country_df.iloc[airport_country_df.Elevation.idxmax()]"
   ]
  },
  {
   "cell_type": "code",
   "execution_count": 272,
   "metadata": {
    "collapsed": false
   },
   "outputs": [
    {
     "data": {
      "text/html": [
       "<div>\n",
       "<table border=\"1\" class=\"dataframe\">\n",
       "  <thead>\n",
       "    <tr style=\"text-align: right;\">\n",
       "      <th></th>\n",
       "      <th>Airport</th>\n",
       "      <th>CountryCode</th>\n",
       "      <th>CountryName</th>\n",
       "      <th>Elevation</th>\n",
       "    </tr>\n",
       "  </thead>\n",
       "  <tbody>\n",
       "    <tr>\n",
       "      <th>80</th>\n",
       "      <td>El Alto Intl</td>\n",
       "      <td>BOL</td>\n",
       "      <td>Bolivia</td>\n",
       "      <td>4063.0</td>\n",
       "    </tr>\n",
       "  </tbody>\n",
       "</table>\n",
       "</div>"
      ],
      "text/plain": [
       "         Airport CountryCode CountryName  Elevation\n",
       "80  El Alto Intl         BOL     Bolivia     4063.0"
      ]
     },
     "execution_count": 272,
     "metadata": {},
     "output_type": "execute_result"
    }
   ],
   "source": [
    "airport_country_df[airport_country_df.Airport=='El Alto Intl']"
   ]
  },
  {
   "cell_type": "code",
   "execution_count": null,
   "metadata": {
    "collapsed": true
   },
   "outputs": [],
   "source": []
  },
  {
   "cell_type": "code",
   "execution_count": null,
   "metadata": {
    "collapsed": true
   },
   "outputs": [],
   "source": []
  }
 ],
 "metadata": {
  "kernelspec": {
   "display_name": "Python 3",
   "language": "python",
   "name": "python3"
  },
  "language_info": {
   "codemirror_mode": {
    "name": "ipython",
    "version": 3
   },
   "file_extension": ".py",
   "mimetype": "text/x-python",
   "name": "python",
   "nbconvert_exporter": "python",
   "pygments_lexer": "ipython3",
   "version": "3.6.0"
  }
 },
 "nbformat": 4,
 "nbformat_minor": 0
}
